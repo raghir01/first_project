{
 "cells": [
  {
   "cell_type": "code",
   "execution_count": 1,
   "metadata": {},
   "outputs": [],
   "source": [
    "% matplotlib notebook"
   ]
  },
  {
   "cell_type": "code",
   "execution_count": 2,
   "metadata": {},
   "outputs": [],
   "source": [
    "import pandas as pd \n",
    "import numpy as np\n",
    "import matplotlib.pyplot as plt\n",
    "from pylab import *"
   ]
  },
  {
   "cell_type": "code",
   "execution_count": 3,
   "metadata": {},
   "outputs": [
    {
     "data": {
      "text/html": [
       "<div>\n",
       "<style scoped>\n",
       "    .dataframe tbody tr th:only-of-type {\n",
       "        vertical-align: middle;\n",
       "    }\n",
       "\n",
       "    .dataframe tbody tr th {\n",
       "        vertical-align: top;\n",
       "    }\n",
       "\n",
       "    .dataframe thead th {\n",
       "        text-align: right;\n",
       "    }\n",
       "</style>\n",
       "<table border=\"1\" class=\"dataframe\">\n",
       "  <thead>\n",
       "    <tr style=\"text-align: right;\">\n",
       "      <th></th>\n",
       "      <th>COUNTY_NAME</th>\n",
       "      <th>DISTRICT_ID</th>\n",
       "      <th>DISTRICT_NAME</th>\n",
       "      <th>GRADE_LEVEL</th>\n",
       "      <th>GRADE_NAME</th>\n",
       "      <th>ROW_TOTAL</th>\n",
       "    </tr>\n",
       "  </thead>\n",
       "  <tbody>\n",
       "    <tr>\n",
       "      <th>1418</th>\n",
       "      <td>CUMBERLAND</td>\n",
       "      <td>540</td>\n",
       "      <td>BRIDGETON</td>\n",
       "      <td>55</td>\n",
       "      <td>TOTAL</td>\n",
       "      <td>121</td>\n",
       "    </tr>\n",
       "  </tbody>\n",
       "</table>\n",
       "</div>"
      ],
      "text/plain": [
       "     COUNTY_NAME  DISTRICT_ID DISTRICT_NAME GRADE_LEVEL GRADE_NAME  ROW_TOTAL\n",
       "1418  CUMBERLAND          540     BRIDGETON          55      TOTAL        121"
      ]
     },
     "execution_count": 3,
     "metadata": {},
     "output_type": "execute_result"
    }
   ],
   "source": [
    "drop_out_to_load=\"Dropouts.csv\"\n",
    "dropout_csv=pd.read_csv(drop_out_to_load)\n",
    "dropout_df=pd.DataFrame(dropout_csv)\n",
    "dropout_df=dropout_df[[\"COUNTY_NAME\",\"DISTRICT_ID\",\"DISTRICT_NAME\",\"GRADE_LEVEL\",\"GRADE_NAME\",\"ROW_TOTAL\"]]\n",
    "dropout_df[\"DISTRICT_NAME\"] = dropout_df[\"DISTRICT_NAME\"].apply(lambda x: x.split()[0])\n",
    "dropout_data = dropout_df[dropout_df[\"DISTRICT_NAME\"].isin([\"SUMMIT\",\"PRINCETON\",\"CLIFTON\",\"BRIDGETON\",\"HOBOKEN\"  ])]\n",
    "dropout_data=dropout_data[dropout_data[\"GRADE_NAME\"]==\"TOTAL\"].copy()\n",
    "bridgtondropout_data=dropout_data[dropout_data[\"DISTRICT_NAME\"]==\"BRIDGETON\"]\n",
    "bridgtondropout_data=bridgtondropout_data[bridgtondropout_data[\"ROW_TOTAL\"]== max(bridgtondropout_data[\"ROW_TOTAL\"])]\n",
    "bridgtondropout_data\n"
   ]
  },
  {
   "cell_type": "code",
   "execution_count": 4,
   "metadata": {},
   "outputs": [
    {
     "data": {
      "text/html": [
       "<div>\n",
       "<style scoped>\n",
       "    .dataframe tbody tr th:only-of-type {\n",
       "        vertical-align: middle;\n",
       "    }\n",
       "\n",
       "    .dataframe tbody tr th {\n",
       "        vertical-align: top;\n",
       "    }\n",
       "\n",
       "    .dataframe thead th {\n",
       "        text-align: right;\n",
       "    }\n",
       "</style>\n",
       "<table border=\"1\" class=\"dataframe\">\n",
       "  <thead>\n",
       "    <tr style=\"text-align: right;\">\n",
       "      <th></th>\n",
       "      <th>COUNTY_NAME</th>\n",
       "      <th>DISTRICT_ID</th>\n",
       "      <th>DISTRICT_NAME</th>\n",
       "      <th>GRADE_LEVEL</th>\n",
       "      <th>GRADE_NAME</th>\n",
       "      <th>ROW_TOTAL</th>\n",
       "    </tr>\n",
       "  </thead>\n",
       "  <tbody>\n",
       "    <tr>\n",
       "      <th>2750</th>\n",
       "      <td>MERCER</td>\n",
       "      <td>4255</td>\n",
       "      <td>PRINCETON</td>\n",
       "      <td>55</td>\n",
       "      <td>TOTAL</td>\n",
       "      <td>4</td>\n",
       "    </tr>\n",
       "  </tbody>\n",
       "</table>\n",
       "</div>"
      ],
      "text/plain": [
       "     COUNTY_NAME  DISTRICT_ID DISTRICT_NAME GRADE_LEVEL GRADE_NAME  ROW_TOTAL\n",
       "2750      MERCER         4255     PRINCETON          55      TOTAL          4"
      ]
     },
     "execution_count": 4,
     "metadata": {},
     "output_type": "execute_result"
    }
   ],
   "source": [
    "princetondropout_data=dropout_data[dropout_data[\"DISTRICT_NAME\"]==\"PRINCETON\"]\n",
    "princetondropout_data=princetondropout_data[princetondropout_data[\"ROW_TOTAL\"]== max(princetondropout_data[\"ROW_TOTAL\"])]\n",
    "princetondropout_data=princetondropout_data.drop_duplicates(keep='last')\n",
    "princetondropout_data"
   ]
  },
  {
   "cell_type": "code",
   "execution_count": 5,
   "metadata": {},
   "outputs": [
    {
     "data": {
      "text/html": [
       "<div>\n",
       "<style scoped>\n",
       "    .dataframe tbody tr th:only-of-type {\n",
       "        vertical-align: middle;\n",
       "    }\n",
       "\n",
       "    .dataframe tbody tr th {\n",
       "        vertical-align: top;\n",
       "    }\n",
       "\n",
       "    .dataframe thead th {\n",
       "        text-align: right;\n",
       "    }\n",
       "</style>\n",
       "<table border=\"1\" class=\"dataframe\">\n",
       "  <thead>\n",
       "    <tr style=\"text-align: right;\">\n",
       "      <th></th>\n",
       "      <th>COUNTY_NAME</th>\n",
       "      <th>DISTRICT_ID</th>\n",
       "      <th>DISTRICT_NAME</th>\n",
       "      <th>GRADE_LEVEL</th>\n",
       "      <th>GRADE_NAME</th>\n",
       "      <th>ROW_TOTAL</th>\n",
       "    </tr>\n",
       "  </thead>\n",
       "  <tbody>\n",
       "    <tr>\n",
       "      <th>5023</th>\n",
       "      <td>UNION</td>\n",
       "      <td>5090</td>\n",
       "      <td>SUMMIT</td>\n",
       "      <td>55</td>\n",
       "      <td>TOTAL</td>\n",
       "      <td>4</td>\n",
       "    </tr>\n",
       "  </tbody>\n",
       "</table>\n",
       "</div>"
      ],
      "text/plain": [
       "     COUNTY_NAME  DISTRICT_ID DISTRICT_NAME GRADE_LEVEL GRADE_NAME  ROW_TOTAL\n",
       "5023       UNION         5090        SUMMIT          55      TOTAL          4"
      ]
     },
     "execution_count": 5,
     "metadata": {},
     "output_type": "execute_result"
    }
   ],
   "source": [
    "summitdropout_data=dropout_data[dropout_data[\"DISTRICT_NAME\"]==\"SUMMIT\"]\n",
    "summitdropout_data=summitdropout_data[summitdropout_data[\"ROW_TOTAL\"]== max(summitdropout_data[\"ROW_TOTAL\"])]\n",
    "summitdropout_data"
   ]
  },
  {
   "cell_type": "code",
   "execution_count": 6,
   "metadata": {},
   "outputs": [
    {
     "data": {
      "text/html": [
       "<div>\n",
       "<style scoped>\n",
       "    .dataframe tbody tr th:only-of-type {\n",
       "        vertical-align: middle;\n",
       "    }\n",
       "\n",
       "    .dataframe tbody tr th {\n",
       "        vertical-align: top;\n",
       "    }\n",
       "\n",
       "    .dataframe thead th {\n",
       "        text-align: right;\n",
       "    }\n",
       "</style>\n",
       "<table border=\"1\" class=\"dataframe\">\n",
       "  <thead>\n",
       "    <tr style=\"text-align: right;\">\n",
       "      <th></th>\n",
       "      <th>COUNTY_NAME</th>\n",
       "      <th>DISTRICT_ID</th>\n",
       "      <th>DISTRICT_NAME</th>\n",
       "      <th>GRADE_LEVEL</th>\n",
       "      <th>GRADE_NAME</th>\n",
       "      <th>ROW_TOTAL</th>\n",
       "    </tr>\n",
       "  </thead>\n",
       "  <tbody>\n",
       "    <tr>\n",
       "      <th>2342</th>\n",
       "      <td>HUDSON</td>\n",
       "      <td>2210</td>\n",
       "      <td>HOBOKEN</td>\n",
       "      <td>55</td>\n",
       "      <td>TOTAL</td>\n",
       "      <td>56</td>\n",
       "    </tr>\n",
       "  </tbody>\n",
       "</table>\n",
       "</div>"
      ],
      "text/plain": [
       "     COUNTY_NAME  DISTRICT_ID DISTRICT_NAME GRADE_LEVEL GRADE_NAME  ROW_TOTAL\n",
       "2342      HUDSON         2210       HOBOKEN          55      TOTAL         56"
      ]
     },
     "execution_count": 6,
     "metadata": {},
     "output_type": "execute_result"
    }
   ],
   "source": [
    "hobokendropout_data=dropout_data[dropout_data[\"DISTRICT_NAME\"]==\"HOBOKEN\"]\n",
    "hobokendropout_data=hobokendropout_data[hobokendropout_data[\"ROW_TOTAL\"]== max(hobokendropout_data[\"ROW_TOTAL\"])]\n",
    "hobokendropout_data"
   ]
  },
  {
   "cell_type": "code",
   "execution_count": 7,
   "metadata": {},
   "outputs": [
    {
     "data": {
      "text/html": [
       "<div>\n",
       "<style scoped>\n",
       "    .dataframe tbody tr th:only-of-type {\n",
       "        vertical-align: middle;\n",
       "    }\n",
       "\n",
       "    .dataframe tbody tr th {\n",
       "        vertical-align: top;\n",
       "    }\n",
       "\n",
       "    .dataframe thead th {\n",
       "        text-align: right;\n",
       "    }\n",
       "</style>\n",
       "<table border=\"1\" class=\"dataframe\">\n",
       "  <thead>\n",
       "    <tr style=\"text-align: right;\">\n",
       "      <th></th>\n",
       "      <th>COUNTY_NAME</th>\n",
       "      <th>DISTRICT_ID</th>\n",
       "      <th>DISTRICT_NAME</th>\n",
       "      <th>GRADE_LEVEL</th>\n",
       "      <th>GRADE_NAME</th>\n",
       "      <th>ROW_TOTAL</th>\n",
       "    </tr>\n",
       "  </thead>\n",
       "  <tbody>\n",
       "    <tr>\n",
       "      <th>3924</th>\n",
       "      <td>PASSAIC</td>\n",
       "      <td>900</td>\n",
       "      <td>CLIFTON</td>\n",
       "      <td>55</td>\n",
       "      <td>TOTAL</td>\n",
       "      <td>107</td>\n",
       "    </tr>\n",
       "  </tbody>\n",
       "</table>\n",
       "</div>"
      ],
      "text/plain": [
       "     COUNTY_NAME  DISTRICT_ID DISTRICT_NAME GRADE_LEVEL GRADE_NAME  ROW_TOTAL\n",
       "3924     PASSAIC          900       CLIFTON          55      TOTAL        107"
      ]
     },
     "execution_count": 7,
     "metadata": {},
     "output_type": "execute_result"
    }
   ],
   "source": [
    "cliftondropout_data=dropout_data[dropout_data[\"DISTRICT_NAME\"]==\"CLIFTON\"]\n",
    "cliftondropout_data=cliftondropout_data[cliftondropout_data[\"ROW_TOTAL\"]== max(cliftondropout_data[\"ROW_TOTAL\"])]\n",
    "cliftondropout_data"
   ]
  },
  {
   "cell_type": "code",
   "execution_count": 8,
   "metadata": {},
   "outputs": [
    {
     "data": {
      "text/html": [
       "<div>\n",
       "<style scoped>\n",
       "    .dataframe tbody tr th:only-of-type {\n",
       "        vertical-align: middle;\n",
       "    }\n",
       "\n",
       "    .dataframe tbody tr th {\n",
       "        vertical-align: top;\n",
       "    }\n",
       "\n",
       "    .dataframe thead th {\n",
       "        text-align: right;\n",
       "    }\n",
       "</style>\n",
       "<table border=\"1\" class=\"dataframe\">\n",
       "  <thead>\n",
       "    <tr style=\"text-align: right;\">\n",
       "      <th></th>\n",
       "      <th>COUNTY</th>\n",
       "      <th>DISTRICT_ID</th>\n",
       "      <th>CITY</th>\n",
       "      <th>GRADE_LEVEL</th>\n",
       "      <th>GRADE_NAME</th>\n",
       "      <th>TOTAL DROPOUT</th>\n",
       "    </tr>\n",
       "  </thead>\n",
       "  <tbody>\n",
       "    <tr>\n",
       "      <th>1418</th>\n",
       "      <td>CUMBERLAND</td>\n",
       "      <td>540</td>\n",
       "      <td>BRIDGETON</td>\n",
       "      <td>55</td>\n",
       "      <td>TOTAL</td>\n",
       "      <td>121</td>\n",
       "    </tr>\n",
       "    <tr>\n",
       "      <th>2750</th>\n",
       "      <td>MERCER</td>\n",
       "      <td>4255</td>\n",
       "      <td>PRINCETON</td>\n",
       "      <td>55</td>\n",
       "      <td>TOTAL</td>\n",
       "      <td>4</td>\n",
       "    </tr>\n",
       "    <tr>\n",
       "      <th>5023</th>\n",
       "      <td>UNION</td>\n",
       "      <td>5090</td>\n",
       "      <td>SUMMIT</td>\n",
       "      <td>55</td>\n",
       "      <td>TOTAL</td>\n",
       "      <td>4</td>\n",
       "    </tr>\n",
       "    <tr>\n",
       "      <th>2342</th>\n",
       "      <td>HUDSON</td>\n",
       "      <td>2210</td>\n",
       "      <td>HOBOKEN</td>\n",
       "      <td>55</td>\n",
       "      <td>TOTAL</td>\n",
       "      <td>56</td>\n",
       "    </tr>\n",
       "    <tr>\n",
       "      <th>3924</th>\n",
       "      <td>PASSAIC</td>\n",
       "      <td>900</td>\n",
       "      <td>CLIFTON</td>\n",
       "      <td>55</td>\n",
       "      <td>TOTAL</td>\n",
       "      <td>107</td>\n",
       "    </tr>\n",
       "  </tbody>\n",
       "</table>\n",
       "</div>"
      ],
      "text/plain": [
       "          COUNTY  DISTRICT_ID       CITY GRADE_LEVEL GRADE_NAME  TOTAL DROPOUT\n",
       "1418  CUMBERLAND          540  BRIDGETON          55      TOTAL            121\n",
       "2750      MERCER         4255  PRINCETON          55      TOTAL              4\n",
       "5023       UNION         5090     SUMMIT          55      TOTAL              4\n",
       "2342      HUDSON         2210    HOBOKEN          55      TOTAL             56\n",
       "3924     PASSAIC          900    CLIFTON          55      TOTAL            107"
      ]
     },
     "execution_count": 8,
     "metadata": {},
     "output_type": "execute_result"
    }
   ],
   "source": [
    "finaldropout_data=bridgtondropout_data.append(princetondropout_data).append(summitdropout_data).append(hobokendropout_data).append(cliftondropout_data)\n",
    "finaldropout_data=finaldropout_data.rename(columns={\"COUNTY_NAME\":\"COUNTY\",\"DISTRICT_NAME\":\"CITY\",\"ROW_TOTAL\":\"TOTAL DROPOUT\"})\n",
    "finaldropout_data"
   ]
  },
  {
   "cell_type": "code",
   "execution_count": 10,
   "metadata": {},
   "outputs": [
    {
     "ename": "FileNotFoundError",
     "evalue": "File b'pop_grad_combined.csv' does not exist",
     "output_type": "error",
     "traceback": [
      "\u001b[0;31m---------------------------------------------------------------------------\u001b[0m",
      "\u001b[0;31mFileNotFoundError\u001b[0m                         Traceback (most recent call last)",
      "\u001b[0;32m<ipython-input-10-680244f63260>\u001b[0m in \u001b[0;36m<module>\u001b[0;34m()\u001b[0m\n\u001b[1;32m      1\u001b[0m \u001b[0;31m#To read graduation rate and population\u001b[0m\u001b[0;34m\u001b[0m\u001b[0;34m\u001b[0m\u001b[0m\n\u001b[1;32m      2\u001b[0m \u001b[0mpop_grad_combined_data_to_load\u001b[0m \u001b[0;34m=\u001b[0m \u001b[0;34m\"pop_grad_combined.csv\"\u001b[0m\u001b[0;34m\u001b[0m\u001b[0m\n\u001b[0;32m----> 3\u001b[0;31m \u001b[0mpop_grad_combined_data\u001b[0m \u001b[0;34m=\u001b[0m \u001b[0mpd\u001b[0m\u001b[0;34m.\u001b[0m\u001b[0mread_csv\u001b[0m\u001b[0;34m(\u001b[0m\u001b[0mpop_grad_combined_data_to_load\u001b[0m\u001b[0;34m)\u001b[0m\u001b[0;34m\u001b[0m\u001b[0m\n\u001b[0m\u001b[1;32m      4\u001b[0m \u001b[0mpop_grad_combined_data\u001b[0m\u001b[0;34m.\u001b[0m\u001b[0mhead\u001b[0m\u001b[0;34m(\u001b[0m\u001b[0;34m)\u001b[0m\u001b[0;34m\u001b[0m\u001b[0m\n",
      "\u001b[0;32m~/anaconda3/lib/python3.7/site-packages/pandas/io/parsers.py\u001b[0m in \u001b[0;36mparser_f\u001b[0;34m(filepath_or_buffer, sep, delimiter, header, names, index_col, usecols, squeeze, prefix, mangle_dupe_cols, dtype, engine, converters, true_values, false_values, skipinitialspace, skiprows, nrows, na_values, keep_default_na, na_filter, verbose, skip_blank_lines, parse_dates, infer_datetime_format, keep_date_col, date_parser, dayfirst, iterator, chunksize, compression, thousands, decimal, lineterminator, quotechar, quoting, escapechar, comment, encoding, dialect, tupleize_cols, error_bad_lines, warn_bad_lines, skipfooter, doublequote, delim_whitespace, low_memory, memory_map, float_precision)\u001b[0m\n\u001b[1;32m    676\u001b[0m                     skip_blank_lines=skip_blank_lines)\n\u001b[1;32m    677\u001b[0m \u001b[0;34m\u001b[0m\u001b[0m\n\u001b[0;32m--> 678\u001b[0;31m         \u001b[0;32mreturn\u001b[0m \u001b[0m_read\u001b[0m\u001b[0;34m(\u001b[0m\u001b[0mfilepath_or_buffer\u001b[0m\u001b[0;34m,\u001b[0m \u001b[0mkwds\u001b[0m\u001b[0;34m)\u001b[0m\u001b[0;34m\u001b[0m\u001b[0m\n\u001b[0m\u001b[1;32m    679\u001b[0m \u001b[0;34m\u001b[0m\u001b[0m\n\u001b[1;32m    680\u001b[0m     \u001b[0mparser_f\u001b[0m\u001b[0;34m.\u001b[0m\u001b[0m__name__\u001b[0m \u001b[0;34m=\u001b[0m \u001b[0mname\u001b[0m\u001b[0;34m\u001b[0m\u001b[0m\n",
      "\u001b[0;32m~/anaconda3/lib/python3.7/site-packages/pandas/io/parsers.py\u001b[0m in \u001b[0;36m_read\u001b[0;34m(filepath_or_buffer, kwds)\u001b[0m\n\u001b[1;32m    438\u001b[0m \u001b[0;34m\u001b[0m\u001b[0m\n\u001b[1;32m    439\u001b[0m     \u001b[0;31m# Create the parser.\u001b[0m\u001b[0;34m\u001b[0m\u001b[0;34m\u001b[0m\u001b[0m\n\u001b[0;32m--> 440\u001b[0;31m     \u001b[0mparser\u001b[0m \u001b[0;34m=\u001b[0m \u001b[0mTextFileReader\u001b[0m\u001b[0;34m(\u001b[0m\u001b[0mfilepath_or_buffer\u001b[0m\u001b[0;34m,\u001b[0m \u001b[0;34m**\u001b[0m\u001b[0mkwds\u001b[0m\u001b[0;34m)\u001b[0m\u001b[0;34m\u001b[0m\u001b[0m\n\u001b[0m\u001b[1;32m    441\u001b[0m \u001b[0;34m\u001b[0m\u001b[0m\n\u001b[1;32m    442\u001b[0m     \u001b[0;32mif\u001b[0m \u001b[0mchunksize\u001b[0m \u001b[0;32mor\u001b[0m \u001b[0miterator\u001b[0m\u001b[0;34m:\u001b[0m\u001b[0;34m\u001b[0m\u001b[0m\n",
      "\u001b[0;32m~/anaconda3/lib/python3.7/site-packages/pandas/io/parsers.py\u001b[0m in \u001b[0;36m__init__\u001b[0;34m(self, f, engine, **kwds)\u001b[0m\n\u001b[1;32m    785\u001b[0m             \u001b[0mself\u001b[0m\u001b[0;34m.\u001b[0m\u001b[0moptions\u001b[0m\u001b[0;34m[\u001b[0m\u001b[0;34m'has_index_names'\u001b[0m\u001b[0;34m]\u001b[0m \u001b[0;34m=\u001b[0m \u001b[0mkwds\u001b[0m\u001b[0;34m[\u001b[0m\u001b[0;34m'has_index_names'\u001b[0m\u001b[0;34m]\u001b[0m\u001b[0;34m\u001b[0m\u001b[0m\n\u001b[1;32m    786\u001b[0m \u001b[0;34m\u001b[0m\u001b[0m\n\u001b[0;32m--> 787\u001b[0;31m         \u001b[0mself\u001b[0m\u001b[0;34m.\u001b[0m\u001b[0m_make_engine\u001b[0m\u001b[0;34m(\u001b[0m\u001b[0mself\u001b[0m\u001b[0;34m.\u001b[0m\u001b[0mengine\u001b[0m\u001b[0;34m)\u001b[0m\u001b[0;34m\u001b[0m\u001b[0m\n\u001b[0m\u001b[1;32m    788\u001b[0m \u001b[0;34m\u001b[0m\u001b[0m\n\u001b[1;32m    789\u001b[0m     \u001b[0;32mdef\u001b[0m \u001b[0mclose\u001b[0m\u001b[0;34m(\u001b[0m\u001b[0mself\u001b[0m\u001b[0;34m)\u001b[0m\u001b[0;34m:\u001b[0m\u001b[0;34m\u001b[0m\u001b[0m\n",
      "\u001b[0;32m~/anaconda3/lib/python3.7/site-packages/pandas/io/parsers.py\u001b[0m in \u001b[0;36m_make_engine\u001b[0;34m(self, engine)\u001b[0m\n\u001b[1;32m   1012\u001b[0m     \u001b[0;32mdef\u001b[0m \u001b[0m_make_engine\u001b[0m\u001b[0;34m(\u001b[0m\u001b[0mself\u001b[0m\u001b[0;34m,\u001b[0m \u001b[0mengine\u001b[0m\u001b[0;34m=\u001b[0m\u001b[0;34m'c'\u001b[0m\u001b[0;34m)\u001b[0m\u001b[0;34m:\u001b[0m\u001b[0;34m\u001b[0m\u001b[0m\n\u001b[1;32m   1013\u001b[0m         \u001b[0;32mif\u001b[0m \u001b[0mengine\u001b[0m \u001b[0;34m==\u001b[0m \u001b[0;34m'c'\u001b[0m\u001b[0;34m:\u001b[0m\u001b[0;34m\u001b[0m\u001b[0m\n\u001b[0;32m-> 1014\u001b[0;31m             \u001b[0mself\u001b[0m\u001b[0;34m.\u001b[0m\u001b[0m_engine\u001b[0m \u001b[0;34m=\u001b[0m \u001b[0mCParserWrapper\u001b[0m\u001b[0;34m(\u001b[0m\u001b[0mself\u001b[0m\u001b[0;34m.\u001b[0m\u001b[0mf\u001b[0m\u001b[0;34m,\u001b[0m \u001b[0;34m**\u001b[0m\u001b[0mself\u001b[0m\u001b[0;34m.\u001b[0m\u001b[0moptions\u001b[0m\u001b[0;34m)\u001b[0m\u001b[0;34m\u001b[0m\u001b[0m\n\u001b[0m\u001b[1;32m   1015\u001b[0m         \u001b[0;32melse\u001b[0m\u001b[0;34m:\u001b[0m\u001b[0;34m\u001b[0m\u001b[0m\n\u001b[1;32m   1016\u001b[0m             \u001b[0;32mif\u001b[0m \u001b[0mengine\u001b[0m \u001b[0;34m==\u001b[0m \u001b[0;34m'python'\u001b[0m\u001b[0;34m:\u001b[0m\u001b[0;34m\u001b[0m\u001b[0m\n",
      "\u001b[0;32m~/anaconda3/lib/python3.7/site-packages/pandas/io/parsers.py\u001b[0m in \u001b[0;36m__init__\u001b[0;34m(self, src, **kwds)\u001b[0m\n\u001b[1;32m   1706\u001b[0m         \u001b[0mkwds\u001b[0m\u001b[0;34m[\u001b[0m\u001b[0;34m'usecols'\u001b[0m\u001b[0;34m]\u001b[0m \u001b[0;34m=\u001b[0m \u001b[0mself\u001b[0m\u001b[0;34m.\u001b[0m\u001b[0musecols\u001b[0m\u001b[0;34m\u001b[0m\u001b[0m\n\u001b[1;32m   1707\u001b[0m \u001b[0;34m\u001b[0m\u001b[0m\n\u001b[0;32m-> 1708\u001b[0;31m         \u001b[0mself\u001b[0m\u001b[0;34m.\u001b[0m\u001b[0m_reader\u001b[0m \u001b[0;34m=\u001b[0m \u001b[0mparsers\u001b[0m\u001b[0;34m.\u001b[0m\u001b[0mTextReader\u001b[0m\u001b[0;34m(\u001b[0m\u001b[0msrc\u001b[0m\u001b[0;34m,\u001b[0m \u001b[0;34m**\u001b[0m\u001b[0mkwds\u001b[0m\u001b[0;34m)\u001b[0m\u001b[0;34m\u001b[0m\u001b[0m\n\u001b[0m\u001b[1;32m   1709\u001b[0m \u001b[0;34m\u001b[0m\u001b[0m\n\u001b[1;32m   1710\u001b[0m         \u001b[0mpassed_names\u001b[0m \u001b[0;34m=\u001b[0m \u001b[0mself\u001b[0m\u001b[0;34m.\u001b[0m\u001b[0mnames\u001b[0m \u001b[0;32mis\u001b[0m \u001b[0;32mNone\u001b[0m\u001b[0;34m\u001b[0m\u001b[0m\n",
      "\u001b[0;32mpandas/_libs/parsers.pyx\u001b[0m in \u001b[0;36mpandas._libs.parsers.TextReader.__cinit__\u001b[0;34m()\u001b[0m\n",
      "\u001b[0;32mpandas/_libs/parsers.pyx\u001b[0m in \u001b[0;36mpandas._libs.parsers.TextReader._setup_parser_source\u001b[0;34m()\u001b[0m\n",
      "\u001b[0;31mFileNotFoundError\u001b[0m: File b'pop_grad_combined.csv' does not exist"
     ]
    }
   ],
   "source": [
    "#To read graduation rate and population\n",
    "pop_grad_combined_data_to_load = \"pop_grad_combined.csv\"\n",
    "pop_grad_combined_data = pd.read_csv(pop_grad_combined_data_to_load)\n",
    "pop_grad_combined_data.head()\n"
   ]
  },
  {
   "cell_type": "code",
   "execution_count": null,
   "metadata": {},
   "outputs": [],
   "source": [
    "#Selected five cities\n",
    "\n",
    "pop_grad_combined_data = pop_grad_combined_data.drop_duplicates()\n",
    "smallset = pop_grad_combined_data[pop_grad_combined_data[\"DISTRICT_NAME_left\"].isin([\n",
    "    \"SUMMIT\",\n",
    "    \"PRINCETON\",\n",
    "    \"CLIFTON\",\n",
    "    \"BRIDGETON\",\n",
    "    \"HOBOKEN\"    \n",
    "])]\n",
    "# smallset_2014 = smallset[smallset[\"Year\"] == 2014]\n",
    "# smallset_2015 = smallset[smallset[\"Year\"] == 2015]\n",
    "smallset_2016 = smallset[smallset[\"Year\"] == 2016]\n",
    "# smallset_2017 = smallset[smallset[\"Year\"] == \"2017\"]\n",
    "#smallset_2016\n",
    "smallset_2016=smallset_2016[[\"dist_year\",\"DISTRICT_NAME_left\",\"GRAD_RATE\",\"Population\"]]\n",
    "smallset_2016"
   ]
  },
  {
   "cell_type": "code",
   "execution_count": null,
   "metadata": {},
   "outputs": [],
   "source": [
    "#combined income grad and population\n",
    "smallset_2016=smallset_2016.rename(columns={\"DISTRICT_NAME_left\":\"CITY\"})\n",
    "#finaldropout_data = finaldropout_data.set_index(\"CITY\").join(\n",
    "#smallset_2016.set_index(\"CITY\"))\n",
    "grad_vs_dropout=pd.merge(finaldropout_data,smallset_2016,how='left',on=\"CITY\")\n",
    "grad_vs_dropout=grad_vs_dropout.sort_values(by=\"GRAD_RATE\",ascending=False)\n",
    "grad_vs_dropout\n",
    "#combined_dropout_and_population = combined_dropout_and_population.reset_index()\n",
    "#combined_dropout_grad_population = combined_dropout_and_population[[\"CITY\",\"GRAD_RATE\",\"Population\",\"TOTAL DROPOUTS\"]].copy()\n",
    "#combined_income_grad_population= combined_income_grad_population.set_index(\"CITY\") \n"
   ]
  },
  {
   "cell_type": "code",
   "execution_count": null,
   "metadata": {},
   "outputs": [],
   "source": [
    "plt.plot(grad_vs_dropout[\"CITY\"],grad_vs_dropout[\"GRAD_RATE\"])\n",
    "plt.plot(grad_vs_dropout[\"CITY\"],grad_vs_dropout[\"TOTAL DROPOUT\"])\n",
    "plt.legend(['y = Graduation Rate', 'y = TOTAL DROPOUT'], loc='best')\n",
    "xlabel('Cities')\n",
    "ylabel('Graduation and Dropout Rate')\n",
    "title('Graduation Vs Dropout Rate')\n",
    "grid(True)\n",
    "plt.savefig(\"gradvsdropout.png\")\n",
    "plt.show()"
   ]
  },
  {
   "cell_type": "code",
   "execution_count": null,
   "metadata": {},
   "outputs": [],
   "source": [
    "colors = [\"yellow\",\"green\",\"lightblue\",\"orange\",\"red\"]\n",
    "plt.title(\"Cities vs Dropout Rate\")\n",
    "plt.pie(finaldropout_data[\"TOTAL DROPOUT\"], labels=finaldropout_data[\"CITY\"], colors=colors,autopct=\"%1.1f%%\",\n",
    "        startangle=40,shadow=True)\n",
    "    \n",
    "# Create axes which are equal so we have a perfect circle\n",
    "#plt.axis(\"equal\")\n",
    "# Save an image of our chart and print the final product to the screen\n",
    "\n",
    "plt.show()\n",
    "plt.savefig(\"PyPies.png\")"
   ]
  }
 ],
 "metadata": {
  "kernelspec": {
   "display_name": "Python 3",
   "language": "python",
   "name": "python3"
  },
  "language_info": {
   "codemirror_mode": {
    "name": "ipython",
    "version": 3
   },
   "file_extension": ".py",
   "mimetype": "text/x-python",
   "name": "python",
   "nbconvert_exporter": "python",
   "pygments_lexer": "ipython3",
   "version": "3.7.0"
  }
 },
 "nbformat": 4,
 "nbformat_minor": 2
}
